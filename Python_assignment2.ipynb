{
  "nbformat": 4,
  "nbformat_minor": 0,
  "metadata": {
    "colab": {
      "provenance": []
    },
    "kernelspec": {
      "name": "python3",
      "display_name": "Python 3"
    },
    "language_info": {
      "name": "python"
    }
  },
  "cells": [
    {
      "cell_type": "code",
      "execution_count": 1,
      "metadata": {
        "colab": {
          "base_uri": "https://localhost:8080/"
        },
        "id": "Qg6O2wdtziHD",
        "outputId": "1e0a37f4-8d19-4347-ba5b-c70a34f54db3"
      },
      "outputs": [
        {
          "output_type": "stream",
          "name": "stdout",
          "text": [
            "Sum: 75\n",
            "Average: 15.0\n"
          ]
        }
      ],
      "source": [
        "numbers = [5, 10, 15, 20, 25]\n",
        "total_sum = sum(numbers)\n",
        "average = total_sum / len(numbers)\n",
        "print(\"Sum:\", total_sum)\n",
        "print(\"Average:\", average)"
      ]
    },
    {
      "cell_type": "code",
      "source": [
        "numbers = [17, 34, 8, 45, 23]\n",
        "max_value = max(numbers)\n",
        "min_value = min(numbers)\n",
        "print(\"Maximum:\", max_value)\n",
        "print(\"Minimum:\", min_value)\n"
      ],
      "metadata": {
        "colab": {
          "base_uri": "https://localhost:8080/"
        },
        "id": "E8SVJFaN0Z6u",
        "outputId": "cc38061a-7d76-4305-d08c-6725a210d010"
      },
      "execution_count": 2,
      "outputs": [
        {
          "output_type": "stream",
          "name": "stdout",
          "text": [
            "Maximum: 45\n",
            "Minimum: 8\n"
          ]
        }
      ]
    },
    {
      "cell_type": "code",
      "source": [
        "n = 15\n",
        "odd_numbers = []\n",
        "\n",
        "current_number = 1\n",
        "while len(odd_numbers) < n:\n",
        "    odd_numbers.append(current_number)\n",
        "    current_number += 2\n",
        "\n",
        "print(\"First\", n, \"odd numbers:\", odd_numbers)\n"
      ],
      "metadata": {
        "colab": {
          "base_uri": "https://localhost:8080/"
        },
        "id": "QAtCopP810ao",
        "outputId": "b96736b0-b430-4001-c588-fb235acbad09"
      },
      "execution_count": 7,
      "outputs": [
        {
          "output_type": "stream",
          "name": "stdout",
          "text": [
            "First 15 odd numbers: [1, 3, 5, 7, 9, 11, 13, 15, 17, 19, 21, 23, 25, 27, 29]\n"
          ]
        }
      ]
    },
    {
      "cell_type": "code",
      "source": [
        "set1 = {2, 4, 6, 8, 10}\n",
        "set2 = {5, 10, 15, 20}\n",
        "union_result = set1.union(set2)\n",
        "intersection_result = set1.intersection(set2)\n",
        "print(\"Union:\", union_result)\n",
        "print(\"Intersection:\", intersection_result)\n"
      ],
      "metadata": {
        "colab": {
          "base_uri": "https://localhost:8080/"
        },
        "id": "qSTZEayu0elw",
        "outputId": "beee3664-0d6e-4074-f54f-8471689179fb"
      },
      "execution_count": 4,
      "outputs": [
        {
          "output_type": "stream",
          "name": "stdout",
          "text": [
            "Union: {2, 4, 5, 6, 8, 10, 15, 20}\n",
            "Intersection: {10}\n"
          ]
        }
      ]
    },
    {
      "cell_type": "code",
      "source": [
        "import pandas as pd\n",
        "\n",
        "def factorial(n):\n",
        "    if n == 0:\n",
        "        return 1\n",
        "    else:\n",
        "        return n * factorial(n - 1)\n",
        "\n",
        "numbers = [5, 7, 3, 4, 6]\n",
        "factorial_results = []\n",
        "\n",
        "for num in numbers:\n",
        "    result = factorial(num)\n",
        "    factorial_results.append(result)\n",
        "\n",
        "data = {'Number': numbers, 'Factorial': factorial_results}\n",
        "df = pd.DataFrame(data)\n",
        "\n",
        "print(df)\n",
        "\n"
      ],
      "metadata": {
        "colab": {
          "base_uri": "https://localhost:8080/"
        },
        "id": "Rh2uZyKm0nXQ",
        "outputId": "1e41be87-4db5-4af8-c724-412abe956f70"
      },
      "execution_count": 9,
      "outputs": [
        {
          "output_type": "stream",
          "name": "stdout",
          "text": [
            "   Number  Factorial\n",
            "0       5        120\n",
            "1       7       5040\n",
            "2       3          6\n",
            "3       4         24\n",
            "4       6        720\n"
          ]
        }
      ]
    }
  ]
}