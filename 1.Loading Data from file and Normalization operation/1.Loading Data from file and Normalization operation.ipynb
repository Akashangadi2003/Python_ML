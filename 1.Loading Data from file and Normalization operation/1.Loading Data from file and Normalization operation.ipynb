{
  "nbformat": 4,
  "nbformat_minor": 0,
  "metadata": {
    "colab": {
      "provenance": []
    },
    "kernelspec": {
      "name": "python3",
      "display_name": "Python 3"
    },
    "language_info": {
      "name": "python"
    }
  },
  "cells": [
    {
      "cell_type": "code",
      "execution_count": 2,
      "metadata": {
        "colab": {
          "base_uri": "https://localhost:8080/"
        },
        "id": "BLRfou-0Lgwj",
        "outputId": "04fec3dc-7a25-473b-9f35-9b39f9e23e35"
      },
      "outputs": [
        {
          "output_type": "stream",
          "name": "stdout",
          "text": [
            "   Duration     Pulse  Maxpulse  Calories\n",
            "0  0.157895  0.379747  0.357143  0.198221\n",
            "1  0.157895  0.468354  0.535714  0.236838\n",
            "2  0.157895  0.291139  0.416667  0.160046\n",
            "3  0.105263  0.367089  0.892857  0.128225\n",
            "4  0.105263  0.468354  0.571429  0.196508\n"
          ]
        }
      ],
      "source": [
        "import pandas as pd\n",
        "from sklearn.preprocessing import MinMaxScaler\n",
        "\n",
        "# Load the CSV file\n",
        "data = pd.read_csv('/content/drive/MyDrive/data.csv')\n",
        "\n",
        "# Select columns to normalize\n",
        "columns_to_normalize = ['Duration', 'Pulse', 'Maxpulse', 'Calories']\n",
        "\n",
        "# Initialize the MinMaxScaler\n",
        "scaler = MinMaxScaler()\n",
        "\n",
        "# Normalize the selected columns\n",
        "data[columns_to_normalize] = scaler.fit_transform(data[columns_to_normalize])\n",
        "\n",
        "# Print the first few rows of the normalized data\n",
        "print(data.head())\n",
        "\n",
        "# Save the normalized data to a new CSV file if needed\n",
        "data.to_csv('normalized_data.csv', index=False)\n"
      ]
    }
  ]
}