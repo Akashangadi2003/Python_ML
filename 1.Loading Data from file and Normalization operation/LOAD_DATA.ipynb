{
  "nbformat": 4,
  "nbformat_minor": 0,
  "metadata": {
    "colab": {
      "provenance": []
    },
    "kernelspec": {
      "name": "python3",
      "display_name": "Python 3"
    },
    "language_info": {
      "name": "python"
    }
  },
  "cells": [
    {
      "cell_type": "markdown",
      "source": [
        "LOAD DATA"
      ],
      "metadata": {
        "id": "hqdaq9sBZTQ9"
      }
    },
    {
      "cell_type": "code",
      "execution_count": 1,
      "metadata": {
        "colab": {
          "base_uri": "https://localhost:8080/"
        },
        "id": "KzvteY-KZGfP",
        "outputId": "b1d6e754-9043-4e07-820e-c0cc167d5571"
      },
      "outputs": [
        {
          "output_type": "stream",
          "name": "stdout",
          "text": [
            "Original Data:\n",
            "\n",
            "Normalized Data:\n",
            "      longitude  latitude  housing_median_age  total_rooms  total_bedrooms  \\\n",
            "0      0.219814  0.513889            0.509804     0.127414        0.121654   \n",
            "1      0.606811  0.181624            0.823529     0.049402        0.056858   \n",
            "2      0.657379  0.130342            0.509804     0.117691        0.093225   \n",
            "3      0.600619  0.134615            0.529412     0.002004        0.002400   \n",
            "4      0.465428  0.402778            0.352941     0.040566        0.044674   \n",
            "...         ...       ...                 ...          ...             ...   \n",
            "2995   0.445820  0.198718            0.431373     0.047431        0.118147   \n",
            "2996   0.623323  0.160256            0.509804     0.172481        0.199372   \n",
            "2997   0.462332  0.399573            0.176471     0.031205        0.036736   \n",
            "2998   0.728586  0.164530            0.764706     0.002956        0.002215   \n",
            "2999   0.469556  0.198718            0.803922     0.057778        0.048182   \n",
            "\n",
            "      population  households  median_income  median_house_value  \n",
            "0       0.128416    0.122565       0.421277            0.674763  \n",
            "1       0.067393    0.055804       0.213728            0.322512  \n",
            "2       0.123973    0.100041       0.365064            0.519371  \n",
            "3       0.003688    0.001826       0.388684            0.643978  \n",
            "4       0.070830    0.047687       0.168108            0.123979  \n",
            "...          ...         ...            ...                 ...  \n",
            "2995    0.105029    0.122768       0.046834            0.424083  \n",
            "2996    0.292624    0.209821       0.199356            0.449633  \n",
            "2997    0.057670    0.044237       0.123419            0.082722  \n",
            "2998    0.003437    0.002435       0.191094            0.293193  \n",
            "2999    0.062699    0.052354       0.555916            1.000000  \n",
            "\n",
            "[3000 rows x 9 columns]\n"
          ]
        }
      ],
      "source": [
        "import pandas as pd\n",
        "\n",
        "data = pd.read_csv('/content/sample_data/california_housing_test.csv')\n",
        "\n",
        "print(\"Original Data:\")\n",
        "\n",
        "from sklearn.preprocessing import MinMaxScaler\n",
        "features = data.values\n",
        "scaler = MinMaxScaler()\n",
        "normalized_features = scaler.fit_transform(features)\n",
        "normalized_data = pd.DataFrame(normalized_features, columns=data.columns)\n",
        "print(\"\\nNormalized Data:\")\n",
        "print(normalized_data)"
      ]
    },
    {
      "cell_type": "code",
      "source": [
        "from google.colab import drive\n",
        "drive.mount('/content/drive')"
      ],
      "metadata": {
        "id": "5gC2vkOWaFwH"
      },
      "execution_count": null,
      "outputs": []
    }
  ]
}